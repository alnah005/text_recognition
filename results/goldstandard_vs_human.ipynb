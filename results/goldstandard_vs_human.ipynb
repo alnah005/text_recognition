{
 "cells": [
  {
   "cell_type": "code",
   "execution_count": 1,
   "metadata": {
    "collapsed": true
   },
   "outputs": [],
   "source": [
    "import pandas as pd\n",
    "import numpy as np\n",
    "import os"
   ]
  },
  {
   "cell_type": "markdown",
   "metadata": {},
   "source": [
    "# Read in data"
   ]
  },
  {
   "cell_type": "markdown",
   "metadata": {},
   "source": [
    "Gold standard data"
   ]
  },
  {
   "cell_type": "code",
   "execution_count": 2,
   "metadata": {},
   "outputs": [],
   "source": [
    "gs_dir = \"../data/ASM/gold_standard_april_25_2018/\"\n",
    "cols = [\"subject_id\", \"frame\", \"line\", \"transcription\"]\n",
    "gold_standard = pd.DataFrame(columns=cols)\n",
    "gs_subj = [f.replace(\".txt\", \"\") for f in os.listdir(gs_dir)]\n",
    "for f in os.listdir(gs_dir):\n",
    "    text = open(os.path.join(gs_dir, f)).read()\n",
    "    subject = f.replace(\".txt\", \"\")\n",
    "\n",
    "    # text = trans[0]\n",
    "    text_pages = text.split(\"\\n\\n\")\n",
    "\n",
    "    for i in range(len(text_pages)):\n",
    "        text_lines = text_pages[i].split(\"\\n\")\n",
    "        for j in range(len(text_lines)):\n",
    "            line = text_lines[j][:-8]\n",
    "            new_trans = {\"subject_id\":[subject],\n",
    "                         \"frame\":[i],\n",
    "                         \"line\":[j],\n",
    "                         \"transcription\":[line]}\n",
    "\n",
    "            new_trans = pd.DataFrame.from_dict(new_trans)\n",
    "            gold_standard = gold_standard.append(new_trans)\n",
    "\n",
    "gold_standard[\"frame\"] = gold_standard[\"frame\"].apply(int)\n",
    "gold_standard[\"line\"] = gold_standard[\"line\"].apply(int)"
   ]
  },
  {
   "cell_type": "code",
   "execution_count": 3,
   "metadata": {
    "collapsed": true
   },
   "outputs": [],
   "source": [
    "full_data = pd.read_csv(\"../data/ASM/full_train2.csv\", sep=\"\\t\", encoding=\"ISO-8859-1\")"
   ]
  },
  {
   "cell_type": "markdown",
   "metadata": {},
   "source": [
    "# Get character error rates"
   ]
  },
  {
   "cell_type": "code",
   "execution_count": 4,
   "metadata": {
    "collapsed": true
   },
   "outputs": [],
   "source": [
    "# get character error rate\n",
    "def cer(r, h):\n",
    "    r = list(r)\n",
    "    h = list(h)\n",
    "    # initialization\n",
    "    d = np.zeros((len(r)+1)*(len(h)+1), dtype=np.uint8)\n",
    "    d = d.reshape((len(r)+1, len(h)+1))\n",
    "    for i in range(len(r)+1):\n",
    "        for j in range(len(h)+1):\n",
    "            if i == 0:\n",
    "                d[0][j] = j\n",
    "            elif j == 0:\n",
    "                d[i][0] = i\n",
    "\n",
    "    # computation\n",
    "    for i in range(1, len(r)+1):\n",
    "        for j in range(1, len(h)+1):\n",
    "            if r[i-1] == h[j-1]:\n",
    "                d[i][j] = d[i-1][j-1]\n",
    "            else:\n",
    "                substitution = d[i-1][j-1] + 1\n",
    "                insertion    = d[i][j-1] + 1\n",
    "                deletion     = d[i-1][j] + 1\n",
    "                d[i][j] = min(substitution, insertion, deletion)\n",
    "\n",
    "    return d[len(r)][len(h)]/(1.0*len(r))"
   ]
  },
  {
   "cell_type": "code",
   "execution_count": 5,
   "metadata": {
    "scrolled": true
   },
   "outputs": [
    {
     "name": "stdout",
     "output_type": "stream",
     "text": [
      "0\t200\t400\t600\t800\t1000\t1200\t1400\t1600\t1800\t2000\t2200\t2400\t2600\t2800\t"
     ]
    }
   ],
   "source": [
    "cols = [\"subject_id\", \"frame\", \"line\", \"gs\", \"volunteer\", \"cer\"]\n",
    "match_data = pd.DataFrame(columns=cols)\n",
    "\n",
    "for i in range(len(full_data)):\n",
    "    if i % 200 == 0:\n",
    "        print(i, end=\"\\t\", flush=True)\n",
    "    cur_trans = full_data.iloc[i]\n",
    "    if type(cur_trans.transcription) == str:\n",
    "        subj = str(cur_trans[\"subject_id\"])\n",
    "        frame = cur_trans[\"frame\"]\n",
    "        line = cur_trans[\"j\"]\n",
    "        subj_match = gold_standard[\"subject_id\"] == subj\n",
    "        fram_match = gold_standard[\"frame\"] == frame\n",
    "        line_match = gold_standard[\"line\"] == line\n",
    "        match = np.logical_and(np.logical_and(subj_match, fram_match), line_match)\n",
    "        if sum(match) > 0:\n",
    "            cur_gs = gold_standard[match].iloc[0]\n",
    "            gst = cur_gs.transcription\n",
    "            vot = cur_trans.transcription\n",
    "            if abs(len(gst) - len(vot)) <= 6:\n",
    "                cerrate = cer(gst, vot)\n",
    "                if cerrate < 0.5:\n",
    "                    new_trans = {\"subject_id\":[subj],\n",
    "                                 \"frame\":[frame],\n",
    "                                 \"line\":[line],\n",
    "                                 \"gs\":[gst],\n",
    "                                 \"volunteer\":[vot],\n",
    "                                 \"cer\":cerrate}\n",
    "                    new_trans = pd.DataFrame.from_dict(new_trans)\n",
    "                    match_data = match_data.append(new_trans)\n"
   ]
  },
  {
   "cell_type": "code",
   "execution_count": 6,
   "metadata": {},
   "outputs": [],
   "source": [
    "match_data.to_csv(\"data/volunteer_vs_gs.csv\", sep=\"\\t\", index=False)"
   ]
  },
  {
   "cell_type": "markdown",
   "metadata": {},
   "source": [
    "# Not used, maybe useful"
   ]
  },
  {
   "cell_type": "markdown",
   "metadata": {},
   "source": [
    "Volunteers"
   ]
  },
  {
   "cell_type": "code",
   "execution_count": null,
   "metadata": {
    "collapsed": true
   },
   "outputs": [],
   "source": [
    "full_data = pd.read_csv(\"../data/ASM/full_train.csv\", sep=\"\\t\")\n",
    "\n",
    "def in_gs(subject_id):\n",
    "    return str(subject_id) in gs_subj\n",
    "full_data[\"gold_standard\"] = full_data[\"subject_id\"].apply(in_gs)\n",
    "\n",
    "full_data = full_data[full_data[\"gold_standard\"]]"
   ]
  },
  {
   "cell_type": "markdown",
   "metadata": {},
   "source": [
    "Online training"
   ]
  },
  {
   "cell_type": "code",
   "execution_count": null,
   "metadata": {
    "collapsed": true
   },
   "outputs": [],
   "source": [
    "online_data = pd.read_csv(\"data/online_training/metrics_image89000.csv\")\n",
    "\n",
    "def get_line_info(filename, part):\n",
    "    filename = filename.replace(\"/home/danny_hanson52/text_recognition/data/ASM/Images/\", \"\")\n",
    "    filename = filename.replace(\".png\", \"\")\n",
    "    return filename.split(\"_\")[part]\n",
    "\n",
    "online_data[\"subject_id\"] = online_data[\"filenames\"].apply(get_line_info, part=0)\n",
    "online_data[\"classification_id\"] = online_data[\"filenames\"].apply(get_line_info, part=1)\n",
    "online_data[\"frame\"] = online_data[\"filenames\"].apply(get_line_info, part=2)\n",
    "online_data[\"line\"] = online_data[\"filenames\"].apply(get_line_info, part=3)\n",
    "\n",
    "def in_gs(subject_id):\n",
    "    return subject_id in gs_subj\n",
    "online_data[\"gold_standard\"] = online_data[\"subject_id\"].apply(in_gs)\n",
    "\n",
    "online_gs = online_data[online_data[\"gold_standard\"]]\n",
    "online_gs = online_gs[online_gs[\"pred\"] == \"pred\"]"
   ]
  }
 ],
 "metadata": {
  "kernelspec": {
   "display_name": "Python 3",
   "language": "python",
   "name": "python3"
  },
  "language_info": {
   "codemirror_mode": {
    "name": "ipython",
    "version": 3
   },
   "file_extension": ".py",
   "mimetype": "text/x-python",
   "name": "python",
   "nbconvert_exporter": "python",
   "pygments_lexer": "ipython3",
   "version": "3.6.1"
  }
 },
 "nbformat": 4,
 "nbformat_minor": 2
}
