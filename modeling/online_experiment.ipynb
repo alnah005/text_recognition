{
 "cells": [
  {
   "cell_type": "markdown",
   "metadata": {},
   "source": [
    "# Import libraries"
   ]
  },
  {
   "cell_type": "code",
   "execution_count": null,
   "metadata": {
    "collapsed": true
   },
   "outputs": [],
   "source": [
    "import numpy as np\n",
    "import pandas as pd\n",
    "import tensorflow as tf\n",
    "import matplotlib as mpl\n",
    "import matplotlib.pyplot as plt\n",
    "import sys\n",
    "import os\n",
    "import pickle\n",
    "import csv\n",
    "import time\n",
    "\n",
    "from PIL import Image\n",
    "import PIL\n",
    "import requests\n",
    "from io import BytesIO\n",
    "\n",
    "from online_functions.create_ASM_batch import *\n",
    "from models.deep_crnn_model import *\n",
    "from models.model_builders.create_dataset import *\n",
    "\n",
    "mpl.rcParams[\"figure.figsize\"] = (15, 15)"
   ]
  },
  {
   "cell_type": "markdown",
   "metadata": {},
   "source": [
    "# Model parameters - only done once"
   ]
  },
  {
   "cell_type": "markdown",
   "metadata": {},
   "source": [
    "** Important editable parameters **"
   ]
  },
  {
   "cell_type": "code",
   "execution_count": null,
   "metadata": {
    "collapsed": true
   },
   "outputs": [],
   "source": [
    "# for now dataset must be one of\n",
    "# iamHandwriting, BenthamDataset, combined, or ASM\n",
    "dataset = \"ASM\"\n",
    "n_epochs_per_bunch = 3\n",
    "bunch_size = 100\n",
    "batch_size = 16"
   ]
  },
  {
   "cell_type": "markdown",
   "metadata": {},
   "source": [
    "** Less important parameters **"
   ]
  },
  {
   "cell_type": "code",
   "execution_count": null,
   "metadata": {
    "collapsed": true
   },
   "outputs": [],
   "source": [
    "data_folder = \"../data/\" + dataset\n",
    "csv_file = data_folder + \"/train.csv\"\n",
    "output_model_dir = \"./tf_output/estimator/\"\n",
    "output_preds_dir = \"./tf_output/prediction/\"\n",
    "output_graph_dir = \"./tf_output/graph/\"\n",
    "input_model_nm = \"./tf_output/input_model/model.ckpt\"\n",
    "\n",
    "optimizer='adam'\n",
    "learning_rate=1e-3\n",
    "learning_decay_rate=0.95\n",
    "learning_decay_steps=5000\n",
    "\n",
    "# load input_shape from file output by preprocess\n",
    "with open(data_folder + \"/img_size.txt\", \"r\") as f:\n",
    "    doc = f.readline()\n",
    "    w, h = doc.split(\",\")\n",
    "    input_shape = (int(float(h)), int(float(w)))\n",
    "    print(input_shape)\n",
    "\n",
    "# load alphabet from file output by preprocess\n",
    "with open(data_folder + \"/alphabet.txt\", \"r\") as f:\n",
    "    alphabet = f.readline()\n",
    "    print(alphabet)\n",
    "    \n",
    "# load data size\n",
    "with open(data_folder + \"/data_size.txt\") as f:\n",
    "    data_size = int(f.readline())\n",
    "    print(data_size)"
   ]
  },
  {
   "cell_type": "markdown",
   "metadata": {},
   "source": [
    "# Run model - looped"
   ]
  },
  {
   "cell_type": "code",
   "execution_count": null,
   "metadata": {
    "collapsed": true
   },
   "outputs": [],
   "source": [
    "restore_model_nm = input_model_nm\n",
    "# for b in range(0, data_size, bunch_size):\n",
    "#     print(b, (b+bunch_size-1))\n",
    "#     if b > 200: break\n",
    "b = 100"
   ]
  },
  {
   "cell_type": "code",
   "execution_count": null,
   "metadata": {
    "collapsed": true
   },
   "outputs": [],
   "source": [
    "# ** create this \"bunch\" of the dataset **\n",
    "create_ASM_batch(b, b+bunch_size-1, \"../data\")"
   ]
  },
  {
   "cell_type": "code",
   "execution_count": null,
   "metadata": {
    "collapsed": true
   },
   "outputs": [],
   "source": [
    "# ** Create model ops **\n",
    "input_tensor = tf.placeholder(tf.float32, [None, input_shape[0], input_shape[1], 1])\n",
    "labels = tf.placeholder(tf.string, [None])\n",
    "\n",
    "out = deep_crnn(input_tensor, labels, input_shape, alphabet, batch_size, lastlayer=False)\n",
    "train_op, loss_ctc, CER, accuracy, prob, words = out\n",
    "\n",
    "# ** Load dataset **\n",
    "out = create_iterator(csv_file, input_shape, batch_size, False)\n",
    "dataset, iterator, next_batch, datasize = out"
   ]
  },
  {
   "cell_type": "code",
   "execution_count": null,
   "metadata": {
    "collapsed": true
   },
   "outputs": [],
   "source": [
    "print(\"Starting training...\")\n",
    "saver = tf.train.Saver()\n",
    "\n",
    "data = pd.DataFrame(columns=[\"loss\", \"cer\", \"accuracy\", \"labels\", \"words\", \"pred\", \"bunch\", \"epoch\", \"batch\"])\n",
    "\n",
    "with tf.Session() as sess:\n",
    "    start_time = time.time()\n",
    "    sess.run(tf.global_variables_initializer())\n",
    "    sess.run(tf.local_variables_initializer())\n",
    "    sess.run(tf.tables_initializer())\n",
    "    saver.restore(sess, restore_model_nm)\n",
    "        \n",
    "    \n",
    "    writer = tf.summary.FileWriter(output_graph_dir, sess.graph)\n",
    "    n_batches = int(datasize / batch_size)\n",
    "    for i in range(n_epochs_per_bunch):\n",
    "        print(\"---------------------------------------------------------\")\n",
    "        print(\"Starting epoch\", i)\n",
    "        for j in range(0, n_batches):\n",
    "            sess.run(iterator.initializer)\n",
    "            input_tensor_b, labels_b = sess.run(next_batch)\n",
    "\n",
    "            # do prediction first\n",
    "            pred = \"pred\"\n",
    "            try:\n",
    "                cer, acc, loss, wordz = sess.run([CER, accuracy, loss_ctc, words],\n",
    "                             feed_dict={input_tensor: input_tensor_b, labels: labels_b})\n",
    "                newdata = {\"loss\":loss, \"cer\":cer, \"accuracy\":[[acc]], \n",
    "                          \"labels\":[[labels_b]], \"words\":[[wordz]], \"pred\":pred,\n",
    "                           \"bunch\":b, \"epoch\":i, \"batch\":j}\n",
    "                print('batch: {0}:{5}:{4}, loss: {3} \\n\\tCER: {1}, accuracy: {2}'.format(b, cer, acc, loss, j, i))\n",
    "            except:\n",
    "                newdata = {\"loss\":-1, \"cer\":-1, \"accuracy\":[[-1, -1]], \n",
    "                          \"labels\":[[\"\"]], \"words\":[[\"\"]], \"pred\":pred,\n",
    "                           \"bunch\":b, \"epoch\":i, \"batch\":j}\n",
    "                print(\"Error at \", b, i, j)\n",
    "            # save data\n",
    "            newdata = pd.DataFrame.from_dict(newdata)\n",
    "            data = data.append(newdata)\n",
    "            pickle.dump(data, open(output_model_dir+\"/online_metrics\" + str(b) + \".pkl\", \"wb\"))\n",
    "            saver.save(sess, output_model_dir+\"/online_model\" + str(b) + \".ckpt\")\n",
    "\n",
    "            # train with new data\n",
    "            pred = \"train\"\n",
    "            try:\n",
    "                _, cer, acc, loss, wordz = sess.run([train_op, CER, accuracy, loss_ctc, words],\n",
    "                             feed_dict={input_tensor: input_tensor_b, labels: labels_b})\n",
    "                newdata = {\"loss\":loss, \"cer\":cer, \"accuracy\":[[acc]], \n",
    "                          \"labels\":[[labels_b]], \"words\":[[wordz]], \"pred\":pred,\n",
    "                           \"bunch\":b, \"epoch\":i, \"batch\":j}\n",
    "                print('batch: {0}:{5}:{4}, loss: {3} \\n\\tCER: {1}, accuracy: {2}'.format(b, cer, acc, loss, j, i))\n",
    "            except:\n",
    "                newdata = {\"loss\":-1, \"cer\":-1, \"accuracy\":[[-1, -1]], \n",
    "                          \"labels\":[[\"\"]], \"words\":[[\"\"]], \"pred\":pred,\n",
    "                           \"bunch\":b, \"epoch\":i, \"batch\":j}\n",
    "                print(\"Error at \", b, i, j)\n",
    "            # save data\n",
    "            newdata = pd.DataFrame.from_dict(newdata)\n",
    "            data = data.append(newdata)\n",
    "            pickle.dump(data, open(output_model_dir+\"/online_metrics\" + str(b) + \".pkl\", \"wb\"))\n",
    "            saver.save(sess, output_model_dir+\"/online_model\" + str(b) + \".ckpt\")\n",
    "        print('Avg Epoch time: {0} seconds'.format((time.time() - start_time)/(1.0*(i+1))))\n",
    "        restore_model_nm = output_model_dir+\"/online_model\" + str(b) + \".ckpt\"\n",
    "        \n",
    "    print('Total time: {0} seconds'.format(time.time() - start_time))\n",
    "    print('Optimization Finished!') "
   ]
  }
 ],
 "metadata": {
  "kernelspec": {
   "display_name": "Python 3",
   "language": "python",
   "name": "python3"
  },
  "language_info": {
   "codemirror_mode": {
    "name": "ipython",
    "version": 3
   },
   "file_extension": ".py",
   "mimetype": "text/x-python",
   "name": "python",
   "nbconvert_exporter": "python",
   "pygments_lexer": "ipython3",
   "version": "3.5.1"
  }
 },
 "nbformat": 4,
 "nbformat_minor": 2
}
