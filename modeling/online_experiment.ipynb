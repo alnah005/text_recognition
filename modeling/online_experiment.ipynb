{
 "cells": [
  {
   "cell_type": "code",
   "execution_count": null,
   "metadata": {
    "collapsed": true
   },
   "outputs": [],
   "source": [
    "import numpy as np\n",
    "import pandas as pd\n",
    "import matplotlib as mpl\n",
    "import matplotlib.pyplot as plt\n",
    "import os\n",
    "import pickle\n",
    "\n",
    "from PIL import Image\n",
    "import PIL\n",
    "import requests\n",
    "from io import BytesIO\n",
    "\n",
    "mpl.rcParams[\"figure.figsize\"] = (15, 15)"
   ]
  },
  {
   "cell_type": "code",
   "execution_count": null,
   "metadata": {
    "collapsed": true
   },
   "outputs": [],
   "source": [
    "# decide how many I'm going to do at a time\n",
    "batch_start = 0\n",
    "batch_end = 100"
   ]
  },
  {
   "cell_type": "markdown",
   "metadata": {},
   "source": [
    "# Read in all classifications"
   ]
  },
  {
   "cell_type": "code",
   "execution_count": 110,
   "metadata": {},
   "outputs": [
    {
     "name": "stdout",
     "output_type": "stream",
     "text": [
      "\n",
      "30656 data entries loaded\n"
     ]
    }
   ],
   "source": [
    "sv_fold = \"../data/ASM/\"\n",
    "if not os.path.isdir(sv_fold+\"Images\"):\n",
    "    os.mkdir(sv_fold+\"Images\")\n",
    "\n",
    "full_sv = os.getcwd().replace(\"\\\\\", \"/\")\n",
    "full_sv = full_sv + \"/data/ASM/Images/\"\n",
    "\n",
    "if os.path.exists(\"../data/ASM/newclas.pkl\"):\n",
    "    data = pickle.load(open(\"../data/ASM/newclas.pkl\", \"rb\"))\n",
    "    print(\"\\n{0} data entries loaded\".format(len(data)))\n",
    "else:\n",
    "    print(\"File doesn't exist, run \\\"preprocess_ASM_csv.py\\\" first\")"
   ]
  },
  {
   "cell_type": "markdown",
   "metadata": {},
   "source": [
    "# Preprocess by splitting image into sections"
   ]
  },
  {
   "cell_type": "code",
   "execution_count": null,
   "metadata": {
    "collapsed": true
   },
   "outputs": [],
   "source": [
    "# load input_shape from file output by preprocess\n",
    "with open(\"../data/combined/img_size.txt\", \"r\") as f:\n",
    "    doc = f.readline()\n",
    "    w, h = doc.split(\",\")\n",
    "    maxh = int(float(h))"
   ]
  },
  {
   "cell_type": "code",
   "execution_count": null,
   "metadata": {
    "collapsed": true
   },
   "outputs": [],
   "source": [
    "def readImg(url, grey=True):\n",
    "    response = requests.get(loc)\n",
    "    img = Image.open(BytesIO(response.content))\n",
    "    img = img.convert(\"L\")\n",
    "    return img"
   ]
  },
  {
   "cell_type": "code",
   "execution_count": 104,
   "metadata": {},
   "outputs": [
    {
     "name": "stdout",
     "output_type": "stream",
     "text": [
      "10\t20\t30\t40\t50\t60\t70\t80\t90\t100\t"
     ]
    }
   ],
   "source": [
    "curdata = data.iloc[batch_start:batch_end]\n",
    "train_lines = []\n",
    "count = 0\n",
    "\n",
    "for i in range(len(curdata)):\n",
    "    curclas = curdata.iloc[i].copy()\n",
    "    loc = curclas[\"location\"]\n",
    "\n",
    "    img = readImg(loc)\n",
    "    pts = curclas[\"annodata\"]\n",
    "\n",
    "    for j in range(len(pts)):\n",
    "        curpts = pts.iloc[j]\n",
    "        trans = curpts[\"transcription\"]\n",
    "        # skip all uncertain transcriptions\n",
    "        if \"[unclear]\" in trans:\n",
    "            continue\n",
    "        # extract area in bounding box\n",
    "        line_box = (int(curpts[\"x1\"]), # x\n",
    "                    int(min(curpts[\"y3\"],curpts[\"y4\"])), # y \n",
    "                    int(curpts[\"x2\"]), # w\n",
    "                    int(max(curpts[\"y1\"],curpts[\"y2\"]))) # h\n",
    "        img_line = img.crop(line_box)\n",
    "        if img_line.size[0] <= 0 or img_line.size[1] <= 0:\n",
    "            continue\n",
    "        \n",
    "        # resize if it's too big\n",
    "        if img_line.size[1] > maxh:\n",
    "            ratio = maxh / float(img.size[1])\n",
    "            wnew = int(float(img.size[0]) * float(ratio))\n",
    "            img_line.resize((wnew, maxh), PIL.Image.ANTIALIAS)\n",
    "\n",
    "        img_line_np = np.array(img_line)\n",
    "\n",
    "        # turn everything above previous line white\n",
    "        m = (curpts[\"y4\"]-curpts[\"y3\"])/(curpts[\"x2\"]-curpts[\"x1\"])\n",
    "        b = curpts[\"y3\"]-min(curpts[\"y4\"],curpts[\"y3\"])\n",
    "        for x in range(img_line_np.shape[1]):\n",
    "            img_line_np[:int(np.floor(m*x+b)),x] = 255\n",
    "\n",
    "        # turn everything below transcription line white\n",
    "        m = (curpts[\"y2\"]-curpts[\"y1\"])/(curpts[\"x2\"]-curpts[\"x1\"])\n",
    "        b = curpts[\"y1\"]-min(curpts[\"y4\"],curpts[\"y3\"])\n",
    "        for x in range(img_line_np.shape[1]):\n",
    "            img_line_np[int(np.ceil(m*x+b)):,x] = 255\n",
    "\n",
    "        img_line = Image.fromarray(img_line_np)\n",
    "\n",
    "        fn = \"{0}{1}_{2}_{3}_{4}.png\".format(full_sv, curclas[\"subject_id\"], curclas[\"classification_id\"], curclas[\"frame\"], j)\n",
    "        # save image\n",
    "        img_line.save(fn)\n",
    "        # add line for training\n",
    "        train_lines.append(fn + \"\\t\" + trans)\n",
    "    \n",
    "    count += 1\n",
    "    if count % ((batch_end-batch_start)/10) == 0: print(count, end=\"\\t\", flush=True)"
   ]
  },
  {
   "cell_type": "code",
   "execution_count": 114,
   "metadata": {
    "collapsed": true
   },
   "outputs": [],
   "source": [
    "train_lines = [l+\"\\n\" for l in train_lines]"
   ]
  },
  {
   "cell_type": "code",
   "execution_count": 115,
   "metadata": {},
   "outputs": [],
   "source": [
    "with open(\"../data/ASM/train.csv\", \"w\") as f:\n",
    "    for l in train_lines:\n",
    "        f.write(l)"
   ]
  },
  {
   "cell_type": "markdown",
   "metadata": {},
   "source": [
    "# Create training csv w/ transcription"
   ]
  },
  {
   "cell_type": "markdown",
   "metadata": {},
   "source": [
    "# Prediction current section"
   ]
  },
  {
   "cell_type": "markdown",
   "metadata": {},
   "source": [
    "# Train on current section"
   ]
  },
  {
   "cell_type": "markdown",
   "metadata": {},
   "source": [
    "# Delete all images to save space"
   ]
  }
 ],
 "metadata": {
  "kernelspec": {
   "display_name": "Python 3",
   "language": "python",
   "name": "python3"
  },
  "language_info": {
   "codemirror_mode": {
    "name": "ipython",
    "version": 3
   },
   "file_extension": ".py",
   "mimetype": "text/x-python",
   "name": "python",
   "nbconvert_exporter": "python",
   "pygments_lexer": "ipython3",
   "version": "3.6.1"
  }
 },
 "nbformat": 4,
 "nbformat_minor": 2
}
