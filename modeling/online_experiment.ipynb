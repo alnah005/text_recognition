{
 "cells": [
  {
   "cell_type": "code",
   "execution_count": null,
   "metadata": {
    "collapsed": true
   },
   "outputs": [],
   "source": [
    "import numpy as np\n",
    "import pandas as pd\n",
    "import matplotlib as mpl\n",
    "import matplotlib.pyplot as plt\n",
    "import json\n",
    "import os\n",
    "import warnings\n",
    "from skimage import io as skimio\n",
    "from skimage import color as skimcolor\n",
    "from datetime import datetime\n",
    "from datetime import date\n",
    "import pickle\n",
    "\n",
    "from PIL import Image\n",
    "import requests\n",
    "from io import BytesIO\n",
    "\n",
    "from segmentation.imageModifiers import *\n",
    "from segmentation.plottingFuncs import *\n",
    "from segmentation.projEdgeBreaks import *\n",
    "\n",
    "mpl.rcParams[\"figure.figsize\"] = (15, 15)"
   ]
  },
  {
   "cell_type": "markdown",
   "metadata": {},
   "source": [
    "# Read in all classifications"
   ]
  },
  {
   "cell_type": "code",
   "execution_count": null,
   "metadata": {},
   "outputs": [],
   "source": [
    "sv_fold = \"../data/ASM/\"\n",
    "if not os.path.isdir(sv_fold+\"Images\"):\n",
    "    os.mkdir(sv_fold+\"Images\")\n",
    "\n",
    "full_sv = os.getcwd().replace(\"\\\\\", \"/\")\n",
    "full_sv = full_sv + \"data/ASM/Images/\"\n",
    "\n",
    "if os.path.exists(\"../data/ASM/newclas.pkl\"):\n",
    "    data = pickle.load(open(\"../data/ASM/newclas.pkl\", \"rb\"))\n",
    "    print(\"\\n{0} data entries loaded\".format(len(data)))\n",
    "else:\n",
    "    print(\"File doesn't exist, run \\\"preprocess_ASM_csv.py\\\" first\")"
   ]
  },
  {
   "cell_type": "markdown",
   "metadata": {},
   "source": [
    "# Preprocess by splitting image into sections"
   ]
  },
  {
   "cell_type": "code",
   "execution_count": null,
   "metadata": {
    "collapsed": true
   },
   "outputs": [],
   "source": [
    "def readImg(url, grey=True):\n",
    "    response = requests.get(loc)\n",
    "    img = Image.open(BytesIO(response.content))\n",
    "    img = img.convert(\"LA\")\n",
    "    return img"
   ]
  },
  {
   "cell_type": "code",
   "execution_count": null,
   "metadata": {
    "collapsed": true
   },
   "outputs": [],
   "source": [
    "img = readImg(loc)\n",
    "# Image.open(loc)\n",
    "\n",
    "plt.imshow(img)\n",
    "plt.show()"
   ]
  },
  {
   "cell_type": "code",
   "execution_count": null,
   "metadata": {
    "collapsed": true
   },
   "outputs": [],
   "source": [
    "val = clas1[\"annotations_dict\"][0][\"value\"]\n",
    "val\n",
    "for v in val:\n",
    "    if v[\"frame\"] == 0:\n",
    "        pts = v[\"points\"]\n",
    "        print(pts)"
   ]
  },
  {
   "cell_type": "code",
   "execution_count": null,
   "metadata": {
    "collapsed": true
   },
   "outputs": [],
   "source": [
    "for k in subj1[\"locations_dict\"].iloc[0].keys():\n",
    "    val = clas1[\"annotations_dict\"][0][\"value\"]\n",
    "    pts = [v[\"points\"] for v in val if v[\"frame\"] == k]\n",
    "    \n",
    "    print(k)\n",
    "# clas1.annotations_dict"
   ]
  },
  {
   "cell_type": "code",
   "execution_count": null,
   "metadata": {
    "collapsed": true
   },
   "outputs": [],
   "source": [
    "pts"
   ]
  },
  {
   "cell_type": "markdown",
   "metadata": {},
   "source": [
    "# Create training csv w/ transcription"
   ]
  },
  {
   "cell_type": "markdown",
   "metadata": {},
   "source": [
    "# Prediction current section"
   ]
  },
  {
   "cell_type": "markdown",
   "metadata": {},
   "source": [
    "# Train on current section"
   ]
  },
  {
   "cell_type": "markdown",
   "metadata": {},
   "source": [
    "# Delete all images to save space"
   ]
  }
 ],
 "metadata": {
  "kernelspec": {
   "display_name": "Python 3",
   "language": "python",
   "name": "python3"
  },
  "language_info": {
   "codemirror_mode": {
    "name": "ipython",
    "version": 3
   },
   "file_extension": ".py",
   "mimetype": "text/x-python",
   "name": "python",
   "nbconvert_exporter": "python",
   "pygments_lexer": "ipython3",
   "version": "3.6.1"
  }
 },
 "nbformat": 4,
 "nbformat_minor": 2
}
