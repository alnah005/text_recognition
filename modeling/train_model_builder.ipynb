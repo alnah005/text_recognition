{
 "cells": [
  {
   "cell_type": "markdown",
   "metadata": {},
   "source": [
    "# Import libraries"
   ]
  },
  {
   "cell_type": "code",
   "execution_count": null,
   "metadata": {},
   "outputs": [],
   "source": [
    "import os\n",
    "import csv\n",
    "import time\n",
    "import pickle\n",
    "import numpy as np\n",
    "import tensorflow as tf\n",
    "\n",
    "from models.deep_crnn_model import *\n",
    "from models.model_builders.create_dataset import *"
   ]
  },
  {
   "cell_type": "markdown",
   "metadata": {},
   "source": [
    "# Model parameters"
   ]
  },
  {
   "cell_type": "markdown",
   "metadata": {},
   "source": [
    "** Important editable parameters **"
   ]
  },
  {
   "cell_type": "code",
   "execution_count": null,
   "metadata": {},
   "outputs": [],
   "source": [
    "# for now dataset must be one of\n",
    "# iamHandwriting, BenthamDataset, or combined\n",
    "dataset = \"combined\"\n",
    "n_epochs = 5\n",
    "batch_size = 16"
   ]
  },
  {
   "cell_type": "markdown",
   "metadata": {},
   "source": [
    "** Less important parameters **"
   ]
  },
  {
   "cell_type": "code",
   "execution_count": null,
   "metadata": {},
   "outputs": [],
   "source": [
    "data_folder = \"../data/\" + dataset\n",
    "csv_file = data_folder + \"/train.csv\"\n",
    "output_model_dir = \"./tf_output/estimator/\"\n",
    "output_preds_dir = \"./tf_output/prediction/\"\n",
    "output_graph_dir = \"./tf_output/graph/\"\n",
    "\n",
    "optimizer='adam'\n",
    "learning_rate=1e-3\n",
    "learning_decay_rate=0.95\n",
    "learning_decay_steps=5000\n",
    "\n",
    "# load input_shape from file output by preprocess\n",
    "with open(data_folder + \"/img_size.txt\", \"r\") as f:\n",
    "    doc = f.readline()\n",
    "    w, h = doc.split(\",\")\n",
    "    input_shape = (int(float(h)), int(float(w)))\n",
    "    print(input_shape)\n",
    "\n",
    "# load alphabet from file output by preprocess\n",
    "with open(data_folder + \"/alphabet.txt\", \"r\") as f:\n",
    "    alphabet = f.readline()\n",
    "    print(alphabet)"
   ]
  },
  {
   "cell_type": "markdown",
   "metadata": {},
   "source": [
    "# Run model"
   ]
  },
  {
   "cell_type": "markdown",
   "metadata": {},
   "source": [
    "** Create model ops **"
   ]
  },
  {
   "cell_type": "code",
   "execution_count": null,
   "metadata": {},
   "outputs": [],
   "source": [
    "input_tensor = tf.placeholder(tf.float32, [None, input_shape[0], input_shape[1], 1])\n",
    "labels = tf.placeholder(tf.string, [None])\n",
    "\n",
    "# out = deep_crnn(input_tensor, labels, input_shape, alphabet, batch_size)\n",
    "# train_op, loss_ctc, CER, accuracy, predictions_dict = out"
   ]
  },
  {
   "cell_type": "code",
   "execution_count": null,
   "metadata": {},
   "outputs": [],
   "source": [
    "import tensorflow as tf\n",
    "from models.model_builders.cnn_layers import *\n",
    "from models.model_builders.lstm_layers import *\n",
    "from models.model_builders.CTC_functions import *\n",
    "from models.model_builders.create_optimizers import *\n",
    "# from models.model_builders.md_lstm import *\n",
    "import models.model_builders.md_lstm_ocr as network_utils\n",
    "\n",
    "\n",
    "\n",
    "# def deep_cnn_mdlstm(input_tensor, labels, input_shape, alphabet, batch_size, \n",
    "#     optimizer=\"adam\", is_training=True):\n",
    "is_training=True\n",
    "alphabet_codes = list(range(len(alphabet)))\n",
    "n_classes = len(alphabet)\n",
    "starting_filter_size = 16"
   ]
  },
  {
   "cell_type": "code",
   "execution_count": null,
   "metadata": {},
   "outputs": [],
   "source": [
    "# seq_lens = network_utils.reshape(features[\"seq_lens\"], [-1])\n",
    "net = network_utils.conv2d(input_tensor, starting_filter_size, 3)\n",
    "net = network_utils.max_pool2d(net, 2)\n",
    "# seq_lens = network_utils.div(seq_lens, 2)\n",
    "net = network_utils.mdlstm(net, starting_filter_size * 2, cell_type=\"LSTM\")\n",
    "net = network_utils.dropout(net, 0.25, is_training)\n",
    "net = network_utils.conv2d(net, starting_filter_size * 3, 3)\n",
    "net = network_utils.max_pool2d(net, 2)\n",
    "net = network_utils.dropout(net, 0.25, is_training)\n",
    "# seq_lens = network_utils.div(seq_lens, 2)\n",
    "net = network_utils.mdlstm(net, starting_filter_size * 4, cell_type=\"LSTM\")\n",
    "net = network_utils.dropout(net, 0.25, is_training)\n",
    "net = network_utils.conv2d(net, starting_filter_size * 5, 3)\n",
    "net = network_utils.max_pool2d(net, 2)\n",
    "net = network_utils.dropout(net, 0.25, is_training)\n",
    "# seq_lens = network_utils.div(seq_lens, 2)\n",
    "net = network_utils.mdlstm(net, starting_filter_size * 6, cell_type=\"LSTM\")\n",
    "net = network_utils.dropout(net, 0.25, is_training)\n",
    "net = network_utils.conv2d(net, starting_filter_size * 7, 3)\n",
    "net = network_utils.max_pool2d(net, 1)\n",
    "net = network_utils.dropout(net, 0.25, is_training)\n",
    "# seq_lens = network_utils.div(seq_lens, 2, is_floor=False)\n",
    "net = network_utils.mdlstm(net, starting_filter_size * 8, cell_type=\"LSTM\")\n",
    "net = network_utils.dropout(net, 0.25, is_training)\n",
    "net = network_utils.conv2d(net, starting_filter_size * 9, 3)\n",
    "net = network_utils.max_pool2d(net, 1)\n",
    "net = network_utils.dropout(net, 0.25, is_training)\n",
    "# seq_lens = network_utils.div(seq_lens, 2, is_floor=False)\n",
    "net = network_utils.mdlstm(net, starting_filter_size * 10, cell_type=\"LSTM\")\n",
    "net = network_utils.dropout(net, 0.25, is_training)\n",
    "net = network_utils.collapse_to_rnn_dims(net)\n",
    "lstm_out = network_utils.get_logits(inputs=net,\n",
    "                                  num_classes=n_classes,\n",
    "                                  num_steps=net.shape[1],\n",
    "                                  num_hidden_units=net.shape[-1])"
   ]
  },
  {
   "cell_type": "code",
   "execution_count": null,
   "metadata": {},
   "outputs": [],
   "source": [
    "# shape_tens = tf.shape(lstm_net)\n",
    "# lstm_out = tf.reshape(fc_out, [shape_tens[0], -1, n_classes], name='reshape_out')  # [batch, width, n_classes]\n",
    "# raw_pred = tf.argmax(tf.nn.softmax(lstm_out), axis=2, name='raw_prediction')\n",
    "# Swap batch and time axis\n",
    "# lstm_out = tf.transpose(lstm_out, [1, 0, 2], name='transpose_time_major')  # [width(time), batch, n_classes]"
   ]
  },
  {
   "cell_type": "code",
   "execution_count": null,
   "metadata": {},
   "outputs": [],
   "source": [
    "predictions_dict = {'prob': lstm_out, 'raw_predictions': None}"
   ]
  },
  {
   "cell_type": "code",
   "execution_count": null,
   "metadata": {},
   "outputs": [],
   "source": [
    "# loss layers\n",
    "out = ctc_loss(predictions_dict, labels, input_shape, alphabet, \n",
    "    alphabet_codes, batch_size, n_pools=2*2*2*2*2)\n",
    "loss_ctc, predictions_dict, CER, accuracy = out\n",
    "\n",
    "# optimizer\n",
    "train_op = create_optimizer(loss_ctc)\n",
    "\n",
    "# return train_op, loss_ctc, CER, accuracy, predictions_dict"
   ]
  },
  {
   "cell_type": "markdown",
   "metadata": {},
   "source": [
    "** Load dataset **"
   ]
  },
  {
   "cell_type": "code",
   "execution_count": null,
   "metadata": {},
   "outputs": [],
   "source": [
    "out = create_iterator(csv_file, input_shape, batch_size)\n",
    "dataset, iterator, next_batch, datasize = out"
   ]
  },
  {
   "cell_type": "markdown",
   "metadata": {},
   "source": [
    "** Train model **"
   ]
  },
  {
   "cell_type": "code",
   "execution_count": null,
   "metadata": {
    "scrolled": true
   },
   "outputs": [],
   "source": [
    "saver = tf.train.Saver()\n",
    "\n",
    "losses = []\n",
    "cers = []\n",
    "accs = []\n",
    "\n",
    "with tf.Session() as sess:\n",
    "    start_time = time.time()\n",
    "    sess.run(tf.global_variables_initializer())\n",
    "    sess.run(tf.local_variables_initializer())\n",
    "    sess.run(tf.tables_initializer())\n",
    "#     saver.restore(sess, output_model_dir+\"/model.ckpt\")\n",
    "    \n",
    "    writer = tf.summary.FileWriter(output_graph_dir, sess.graph)\n",
    "    n_batches = int(datasize / batch_size)\n",
    "    for i in range(n_epochs):\n",
    "        print(\"---------------------------------------------------------\")\n",
    "        print(\"Starting epoch\", i)\n",
    "        sess.run(iterator.initializer)\n",
    "        for j in range(n_batches):\n",
    "            input_tensor_b, labels_b = sess.run(next_batch)\n",
    "            \n",
    "            try:\n",
    "                _, cer, acc, loss = sess.run([train_op, CER, accuracy, loss_ctc],\n",
    "                             feed_dict={input_tensor: input_tensor_b, labels: labels_b})\n",
    "                losses.append(loss)\n",
    "                cers.append(cer)\n",
    "                accs.append(accs)\n",
    "                pickle.dump([cers, accs, losses], open(output_model_dir+\"/metrics.pkl\", \"wb\"))\n",
    "                saver.save(sess, output_model_dir+\"/model.ckpt\")\n",
    "                \n",
    "                print('batch: {0}, loss: {3} \\n\\tCER: {1}, accuracy: {2}'.format(j, cer, acc, loss))\n",
    "            except:\n",
    "                print(\"Error at \", j)\n",
    "        print('Avg Epoch time: {0} seconds'.format((time.time() - start_time)/(1.0*(i+1))))\n",
    "        \n",
    "    print('Total time: {0} seconds'.format(time.time() - start_time))\n",
    "    print('Optimization Finished!') "
   ]
  }
 ],
 "metadata": {
  "kernelspec": {
   "display_name": "Python 3",
   "language": "python",
   "name": "python3"
  },
  "language_info": {
   "codemirror_mode": {
    "name": "ipython",
    "version": 3
   },
   "file_extension": ".py",
   "mimetype": "text/x-python",
   "name": "python",
   "nbconvert_exporter": "python",
   "pygments_lexer": "ipython3",
   "version": "3.6.4"
  }
 },
 "nbformat": 4,
 "nbformat_minor": 2
}
