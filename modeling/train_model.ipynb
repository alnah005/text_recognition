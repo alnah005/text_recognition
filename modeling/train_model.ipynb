{
 "cells": [
  {
   "cell_type": "markdown",
   "metadata": {},
   "source": [
    "# Import libraries"
   ]
  },
  {
   "cell_type": "code",
   "execution_count": null,
   "metadata": {
    "collapsed": true
   },
   "outputs": [],
   "source": [
    "import os\n",
    "import csv\n",
    "import time\n",
    "import pickle\n",
    "import numpy as np\n",
    "import pandas as pd\n",
    "import tensorflow as tf\n",
    "\n",
    "from models.deep_crnn_model import *\n",
    "from models.model_builders.create_dataset import *"
   ]
  },
  {
   "cell_type": "markdown",
   "metadata": {},
   "source": [
    "# Model parameters"
   ]
  },
  {
   "cell_type": "markdown",
   "metadata": {},
   "source": [
    "** Important editable parameters **"
   ]
  },
  {
   "cell_type": "code",
   "execution_count": null,
   "metadata": {
    "collapsed": true
   },
   "outputs": [],
   "source": [
    "# for now dataset must be one of\n",
    "# iamHandwriting, BenthamDataset, or combined\n",
    "dataset = \"combined\"\n",
    "n_epochs = 10\n",
    "batch_size = 16\n",
    "restore = False"
   ]
  },
  {
   "cell_type": "markdown",
   "metadata": {},
   "source": [
    "** Less important parameters **"
   ]
  },
  {
   "cell_type": "code",
   "execution_count": null,
   "metadata": {},
   "outputs": [],
   "source": [
    "data_folder = \"../data/\" + dataset\n",
    "csv_file = data_folder + \"/train.csv\"\n",
    "output_model_dir = \"./tf_output/estimator/\"\n",
    "output_preds_dir = \"./tf_output/prediction/\"\n",
    "output_graph_dir = \"./tf_output/graph/\"\n",
    "\n",
    "optimizer='adam'\n",
    "learning_rate=1e-3\n",
    "learning_decay_rate=0.95\n",
    "learning_decay_steps=5000\n",
    "\n",
    "# load input_shape from file output by preprocess\n",
    "with open(data_folder + \"/img_size.txt\", \"r\") as f:\n",
    "    doc = f.readline()\n",
    "    w, h = doc.split(\",\")\n",
    "    input_shape = (int(float(h)), int(float(w)))\n",
    "    print(input_shape)\n",
    "\n",
    "# load alphabet from file output by preprocess\n",
    "with open(data_folder + \"/alphabet.txt\", \"r\") as f:\n",
    "    alphabet = f.readline()\n",
    "    print(alphabet)"
   ]
  },
  {
   "cell_type": "markdown",
   "metadata": {},
   "source": [
    "# Run model"
   ]
  },
  {
   "cell_type": "markdown",
   "metadata": {},
   "source": [
    "** Create model ops **"
   ]
  },
  {
   "cell_type": "code",
   "execution_count": null,
   "metadata": {
    "collapsed": true
   },
   "outputs": [],
   "source": [
    "input_tensor = tf.placeholder(tf.float32, [None, input_shape[0], input_shape[1], 1])\n",
    "labels = tf.placeholder(tf.string, [None])\n",
    "\n",
    "out = deep_crnn(input_tensor, labels, input_shape, alphabet, batch_size)\n",
    "train_op, loss_ctc, CER, accuracy, prob, words = out"
   ]
  },
  {
   "cell_type": "markdown",
   "metadata": {},
   "source": [
    "** Load dataset **"
   ]
  },
  {
   "cell_type": "code",
   "execution_count": null,
   "metadata": {
    "collapsed": true
   },
   "outputs": [],
   "source": [
    "out = create_iterator(csv_file, input_shape, batch_size, True)\n",
    "dataset, iterator, next_batch, datasize = out"
   ]
  },
  {
   "cell_type": "markdown",
   "metadata": {},
   "source": [
    "** Train model **"
   ]
  },
  {
   "cell_type": "code",
   "execution_count": null,
   "metadata": {},
   "outputs": [],
   "source": [
    "saver = tf.train.Saver()\n",
    "\n",
    "if restore:\n",
    "    data = pickle.load(open(output_model_dir+\"/metrics.pkl\", \"rb\"))\n",
    "else:\n",
    "    data = pd.DataFrame(columns=[\"loss\", \"cer\", \"accuracy\", \"labels\", \"words\"])\n",
    "\n",
    "with tf.Session() as sess:\n",
    "    start_time = time.time()\n",
    "    sess.run(tf.global_variables_initializer())\n",
    "    sess.run(tf.local_variables_initializer())\n",
    "    sess.run(tf.tables_initializer())\n",
    "    if restore:\n",
    "        saver.restore(sess, output_model_dir+\"/model.ckpt\")\n",
    "    \n",
    "    writer = tf.summary.FileWriter(output_graph_dir, sess.graph)\n",
    "    n_batches = int(datasize / batch_size)\n",
    "    for i in range(n_epochs):\n",
    "        print(\"---------------------------------------------------------\")\n",
    "        print(\"Starting epoch\", i)\n",
    "        sess.run(iterator.initializer)\n",
    "        for j in range(n_batches):\n",
    "            input_tensor_b, labels_b = sess.run(next_batch)\n",
    "\n",
    "            try:\n",
    "                _, cer, acc, loss, words = sess.run([train_op, CER, accuracy, loss_ctc, words],\n",
    "                             feed_dict={input_tensor: input_tensor_b, labels: labels_b})\n",
    "                \n",
    "                newdata = {\"loss\":loss, \"cer\":cer, \"accuracy\":acc, \n",
    "                          \"labels\":[labels_b], \"words\":[words]}\n",
    "                newdata = pd.DataFrame.from_dict(newdata)\n",
    "                data = data.append(newdata)\n",
    "                pickle.dump(data, open(output_model_dir+\"/metrics.pkl\", \"wb\"))\n",
    "                saver.save(sess, output_model_dir+\"/model.ckpt\")\n",
    "                \n",
    "                print('batch: {0}, loss: {3} \\n\\tCER: {1}, accuracy: {2}'.format(j, cer, acc, loss))\n",
    "            except:\n",
    "                print(\"Error at \", j)\n",
    "            break\n",
    "        print('Avg Epoch time: {0} seconds'.format((time.time() - start_time)/(1.0*(i+1))))\n",
    "        break\n",
    "    print('Total time: {0} seconds'.format(time.time() - start_time))\n",
    "    print('Optimization Finished!') "
   ]
  }
 ],
 "metadata": {
  "kernelspec": {
   "display_name": "Python 3",
   "language": "python",
   "name": "python3"
  },
  "language_info": {
   "codemirror_mode": {
    "name": "ipython",
    "version": 3
   },
   "file_extension": ".py",
   "mimetype": "text/x-python",
   "name": "python",
   "nbconvert_exporter": "python",
   "pygments_lexer": "ipython3",
   "version": "3.6.1"
  }
 },
 "nbformat": 4,
 "nbformat_minor": 2
}
