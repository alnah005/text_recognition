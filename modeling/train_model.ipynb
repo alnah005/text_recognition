{
 "cells": [
  {
   "cell_type": "markdown",
   "metadata": {},
   "source": [
    "# Import libraries"
   ]
  },
  {
   "cell_type": "code",
   "execution_count": 1,
   "metadata": {},
   "outputs": [],
   "source": [
    "import os\n",
    "import csv\n",
    "import time\n",
    "import pickle\n",
    "import numpy as np\n",
    "import tensorflow as tf\n",
    "\n",
    "from models.deep_crnn_model import *\n",
    "from models.model_builders.create_dataset import *"
   ]
  },
  {
   "cell_type": "markdown",
   "metadata": {},
   "source": [
    "# Model parameters"
   ]
  },
  {
   "cell_type": "code",
   "execution_count": 2,
   "metadata": {
    "collapsed": true
   },
   "outputs": [],
   "source": [
    "csv_files_train = \"../data/iamHandwriting/train.csv\"\n",
    "\n",
    "output_model_dir = \"../tf_output/estimator/\"\n",
    "output_preds_dir = \"../tf_output/prediction/\"\n",
    "output_graph_dir = \"../tf_output/graph/\"\n",
    "\n",
    "n_epochs = 10\n",
    "\n",
    "batch_size=64\n",
    "\n",
    "learning_rate=1e-3\n",
    "learning_decay_rate=0.95\n",
    "learning_decay_steps=5000\n",
    "\n",
    "input_shape=(129, 369) #iam shape\n",
    "# input_shape=(117, 1669) # bentham shape1\n",
    "# input_shape=(181, 1833) # bentham shape2\n",
    "\n",
    "optimizer='adam'\n",
    "\n",
    "# alphabet=\" !\\\"#&'()*+,-./0123456789:;<=>?ABCDEFGHIJKLMNOPQRSTUVWXY[]_abcdefghijklmnopqrstuvwxyz|\"\n",
    "alphabet=\"abcdefghijklmnopqrstuvwxyz\"\n",
    "\n",
    "csv_delimiter='\\t'"
   ]
  },
  {
   "cell_type": "markdown",
   "metadata": {},
   "source": [
    "# Run model"
   ]
  },
  {
   "cell_type": "markdown",
   "metadata": {},
   "source": [
    "** Create model ops **"
   ]
  },
  {
   "cell_type": "code",
   "execution_count": 4,
   "metadata": {},
   "outputs": [],
   "source": [
    "input_tensor = tf.placeholder(tf.float32, [None, input_shape[0], input_shape[1], 1])\n",
    "labels = tf.placeholder(tf.string, [None])\n",
    "\n",
    "out = deep_crnn(input_tensor, labels, input_shape, alphabet, batch_size)\n",
    "train_op, loss_ctc, CER, accuracy, predictions_dict = out"
   ]
  },
  {
   "cell_type": "markdown",
   "metadata": {},
   "source": [
    "** Load dataset **"
   ]
  },
  {
   "cell_type": "code",
   "execution_count": 5,
   "metadata": {},
   "outputs": [],
   "source": [
    "out = create_iterator(csv_files_train, input_shape, batch_size)\n",
    "dataset, iterator, next_batch, datasize = out"
   ]
  },
  {
   "cell_type": "markdown",
   "metadata": {},
   "source": [
    "** Train model **"
   ]
  },
  {
   "cell_type": "code",
   "execution_count": null,
   "metadata": {},
   "outputs": [
    {
     "name": "stdout",
     "output_type": "stream",
     "text": [
      "---------------------------------------------------------\n",
      "Starting epoch 0\n",
      "batch: 0, loss: 274.429443359375 \n",
      "\tCER: 15.312127113342285, accuracy: [ 0.  0.]\n",
      "batch: 1, loss: 131.7049560546875 \n",
      "\tCER: 3.5446362495422363, accuracy: [ 0.  0.]\n"
     ]
    }
   ],
   "source": [
    "saver = tf.train.Saver()\n",
    "\n",
    "losses = []\n",
    "cers = []\n",
    "accs = []\n",
    "\n",
    "with tf.Session() as sess:\n",
    "    start_time = time.time()\n",
    "    sess.run(tf.global_variables_initializer())\n",
    "    sess.run(tf.local_variables_initializer())\n",
    "    sess.run(tf.tables_initializer())\n",
    "#     saver.restore(sess, output_model_dir+\"/model.ckpt\")\n",
    "    \n",
    "    writer = tf.summary.FileWriter(output_graph_dir, sess.graph)\n",
    "    n_batches = int(datasize / batch_size)\n",
    "    for i in range(n_epochs):\n",
    "        print(\"---------------------------------------------------------\")\n",
    "        print(\"Starting epoch\", i)\n",
    "        sess.run(iterator.initializer)\n",
    "        for j in range(n_batches):\n",
    "            try:\n",
    "                _, cer, acc, loss, preddict, scp, pc = sess.run([train_op, CER, accuracy, loss_ctc, predictions_dict],\n",
    "                             feed_dict={input_tensor: input_tensor_b, labels: labels_b})\n",
    "                losses.append(loss)\n",
    "                cers.append(cer)\n",
    "                accs.append(accs)\n",
    "                pickle.dump([cers, accs, losses, preddict], open(output_model_dir+\"/preds.pkl\", \"wb\"))\n",
    "                saver.save(sess, output_model_dir+\"/model.ckpt\")\n",
    "                \n",
    "                print('batch: {0}, loss: {3} \\n\\tCER: {1}, accuracy: {2}'.format(j, cer, acc, loss))\n",
    "            except:\n",
    "                print(\"Error at \", j)\n",
    "        print('Avg Epoch time: {0} seconds'.format((time.time() - start_time)/(1.0*(i+1))))\n",
    "            \n",
    "    print('Total time: {0} seconds'.format(time.time() - start_time))\n",
    "    print('Optimization Finished!') "
   ]
  }
 ],
 "metadata": {
  "kernelspec": {
   "display_name": "Python 3",
   "language": "python",
   "name": "python3"
  },
  "language_info": {
   "codemirror_mode": {
    "name": "ipython",
    "version": 3
   },
   "file_extension": ".py",
   "mimetype": "text/x-python",
   "name": "python",
   "nbconvert_exporter": "python",
   "pygments_lexer": "ipython3",
   "version": "3.6.1"
  }
 },
 "nbformat": 4,
 "nbformat_minor": 2
}
