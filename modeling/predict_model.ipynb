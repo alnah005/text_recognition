{
 "cells": [
  {
   "cell_type": "markdown",
   "metadata": {},
   "source": [
    "# Import libraries"
   ]
  },
  {
   "cell_type": "code",
   "execution_count": null,
   "metadata": {
    "collapsed": true
   },
   "outputs": [],
   "source": [
    "import os\n",
    "import csv\n",
    "import time\n",
    "import pickle\n",
    "import numpy as np\n",
    "import tensorflow as tf\n",
    "\n",
    "from models.deep_crnn_model import *\n",
    "from models.model_builders.create_dataset import *"
   ]
  },
  {
   "cell_type": "markdown",
   "metadata": {},
   "source": [
    "# Model parameters"
   ]
  },
  {
   "cell_type": "code",
   "execution_count": null,
   "metadata": {
    "collapsed": true
   },
   "outputs": [],
   "source": [
    "csv_files_train = \"../data/iamHandwriting/train.csv\"\n",
    "\n",
    "output_model_dir = \"../tf_output/estimator/\"\n",
    "output_preds_dir = \"../tf_output/prediction/\"\n",
    "output_graph_dir = \"../tf_output/graph/\"\n",
    "\n",
    "batch_size=64\n",
    "\n",
    "learning_rate=1e-3\n",
    "learning_decay_rate=0.95\n",
    "learning_decay_steps=5000\n",
    "\n",
    "input_shape=(129, 369) #iam shape\n",
    "# input_shape=(117, 1669) # bentham shape1\n",
    "# input_shape=(181, 1833) # bentham shape2\n",
    "\n",
    "optimizer='adam'\n",
    "\n",
    "# alphabet=\" !\\\"#&'()*+,-./0123456789:;<=>?ABCDEFGHIJKLMNOPQRSTUVWXY[]_abcdefghijklmnopqrstuvwxyz|\"\n",
    "alphabet=\"abcdefghijklmnopqrstuvwxyz\"\n",
    "\n",
    "csv_delimiter='\\t'"
   ]
  },
  {
   "cell_type": "markdown",
   "metadata": {},
   "source": [
    "# Run model"
   ]
  },
  {
   "cell_type": "markdown",
   "metadata": {},
   "source": [
    "** Create model ops **"
   ]
  },
  {
   "cell_type": "code",
   "execution_count": null,
   "metadata": {
    "collapsed": true
   },
   "outputs": [],
   "source": [
    "input_tensor = tf.placeholder(tf.float32, [None, input_shape[0], input_shape[1], 1])\n",
    "labels = tf.placeholder(tf.string, [None])\n",
    "\n",
    "out = deep_crnn(input_tensor, labels, input_shape, alphabet, batch_size)\n",
    "train_op, loss_ctc, CER, accuracy, predictions_dict = out"
   ]
  },
  {
   "cell_type": "markdown",
   "metadata": {},
   "source": [
    "** Load dataset **"
   ]
  },
  {
   "cell_type": "code",
   "execution_count": null,
   "metadata": {
    "collapsed": true
   },
   "outputs": [],
   "source": [
    "out = create_iterator(csv_files_train, input_shape, batch_size)\n",
    "dataset, iterator, next_batch, datasize = out"
   ]
  },
  {
   "cell_type": "markdown",
   "metadata": {},
   "source": [
    "** Predict model **"
   ]
  },
  {
   "cell_type": "code",
   "execution_count": null,
   "metadata": {
    "collapsed": true
   },
   "outputs": [],
   "source": [
    "saver = tf.train.Saver()\n",
    "\n",
    "labls = []\n",
    "losses = []\n",
    "cers = []\n",
    "accs = []\n",
    "preddicts = []\n",
    "\n",
    "with tf.Session() as sess:\n",
    "    start_time = time.time()\n",
    "    sess.run(tf.local_variables_initializer())\n",
    "    sess.run(tf.tables_initializer())\n",
    "    sess.run(tf.global_variables_initializer())\n",
    "    saver.restore(sess, output_model_dir+\"/model.ckpt\")\n",
    "    \n",
    "    writer = tf.summary.FileWriter(output_graph_dir+\"/preds\", sess.graph)\n",
    "    n_batches = int(datasize / train_batch_size)\n",
    "    print(\"Starting epoch\")\n",
    "    sess.run(iterator.initializer)\n",
    "    for j in range(n_batches):\n",
    "        input_tensor_b, labels_b = sess.run(next_batch)\n",
    "        \n",
    "        try:\n",
    "            cer, acc, loss, preddict = sess.run([CER, accuracy, loss_ctc, predictions_dict],\n",
    "                         feed_dict={input_tensor: input_tensor_b, labels: labels_b})\n",
    "            labls.append(labels_b)\n",
    "            losses.append(loss)\n",
    "            cers.append(cer)\n",
    "            accs.append(accs)\n",
    "            preddicts.append(preddict)\n",
    "\n",
    "            pickle.dump([labls, accs, losses, cers, preddicts], open(output_preds_dir+\"/preds.pkl\", \"wb\"))\n",
    "            print('batch: {0}, CER: {1}, accuracy: {2}, loss: {3}'.format(j, cer, acc, loss))\n",
    "        except:\n",
    "            labls.append([])\n",
    "            losses.append([])\n",
    "            cers.append([])\n",
    "            accs.append([])\n",
    "            preddicts.append([])\n",
    "\n",
    "            pickle.dump([labls, accs, losses, cers, preddicts], open(output_preds_dir+\"/preds.pkl\", \"wb\"))\n",
    "            print(\"Error at \", j)\n",
    "\n",
    "    print('Total time: {0} seconds'.format(time.time() - start_time))"
   ]
  }
 ],
 "metadata": {
  "kernelspec": {
   "display_name": "Python 3",
   "language": "python",
   "name": "python3"
  },
  "language_info": {
   "codemirror_mode": {
    "name": "ipython",
    "version": 3
   },
   "file_extension": ".py",
   "mimetype": "text/x-python",
   "name": "python",
   "nbconvert_exporter": "python",
   "pygments_lexer": "ipython3",
   "version": "3.6.1"
  }
 },
 "nbformat": 4,
 "nbformat_minor": 2
}
