{
 "cells": [
  {
   "cell_type": "code",
   "execution_count": 1,
   "metadata": {
    "collapsed": false
   },
   "outputs": [],
   "source": [
    "import numpy as np\n",
    "import pandas as pd\n",
    "# import skimage.io as skimio\n",
    "# import skimage.color as skimcolor\n",
    "# import matplotlib.pyplot as plt\n",
    "from PIL import Image\n",
    "import os\n",
    "import warnings"
   ]
  },
  {
   "cell_type": "markdown",
   "metadata": {},
   "source": [
    "#### Read in data and modify data"
   ]
  },
  {
   "cell_type": "code",
   "execution_count": 2,
   "metadata": {
    "collapsed": true
   },
   "outputs": [],
   "source": [
    "local_path = os.getcwd()\n",
    "img_dir = \"./data/Images/\"\n",
    "trans_dir = \"./data/Transcriptions/\"\n",
    "part_dir = \"./data/Partitions/\""
   ]
  },
  {
   "cell_type": "code",
   "execution_count": 3,
   "metadata": {
    "collapsed": true
   },
   "outputs": [],
   "source": [
    "# get partitions (only use training for now)\n",
    "with open(os.path.join(part_dir, \"TrainLines.lst\")) as f:\n",
    "    training = f.read().splitlines()\n",
    "with open(os.path.join(part_dir, \"ValidationLines.lst\")) as f:\n",
    "    validation = f.read().splitlines()\n",
    "with open(os.path.join(part_dir, \"TestLines.lst\")) as f:\n",
    "    test = f.read().splitlines()"
   ]
  },
  {
   "cell_type": "code",
   "execution_count": 4,
   "metadata": {
    "collapsed": true
   },
   "outputs": [],
   "source": [
    "# filenames\n",
    "filenames = [f.replace(\".txt\", \"\") for f in os.listdir(trans_dir)]\n",
    "filenames = [f for f in filenames if f in training]\n",
    "data_df = pd.DataFrame({\"filenames\": filenames})\n",
    "data_df[\"imgnames\"] = [img_dir+f+\".png\" for f in data_df.filenames]\n",
    "data_df[\"transnames\"] = [trans_dir+f+\".txt\" for f in data_df.filenames]"
   ]
  },
  {
   "cell_type": "code",
   "execution_count": 5,
   "metadata": {
    "collapsed": true
   },
   "outputs": [],
   "source": [
    "# images\n",
    "# def readBenthamImg(fn):\n",
    "#     im = skimio.imread(fn)\n",
    "#     rep_val = max(np.median(im[:,:,0]), np.mean(im[:,:,0]))\n",
    "#     im[im[:,:,3] == 0] = [rep_val, rep_val, rep_val, 255]\n",
    "#     im = skimcolor.rgb2gray(im)*255\n",
    "#     return im.astype(\"int\")\n",
    "def readBenthamImg(fn):\n",
    "    im = np.array(Image.open(fn))\n",
    "    rep_val = max(np.median(im[:,:,0]), np.mean(im[:,:,0]))\n",
    "    im[im[:,:,3] == 0] = [rep_val, rep_val, rep_val, 255]\n",
    "    im = Image.fromarray(im).convert(\"L\")\n",
    "    return im\n",
    "data_df[\"images\"] = [readBenthamImg(f) for f in data_df.imgnames]"
   ]
  },
  {
   "cell_type": "code",
   "execution_count": 6,
   "metadata": {
    "collapsed": false
   },
   "outputs": [],
   "source": [
    "data_df[\"imsizes\"] = [np.array(i).shape for i in data_df.images]\n",
    "data_df[\"heights\"] = [i[0] for i in data_df.imsizes]\n",
    "data_df[\"widths\"] = [i[1] for i in data_df.imsizes]"
   ]
  },
  {
   "cell_type": "code",
   "execution_count": 7,
   "metadata": {
    "collapsed": true
   },
   "outputs": [],
   "source": [
    "# transcriptions\n",
    "def readBenthamTrans(fn):\n",
    "    return open(fn, \"r\").readline().replace(\"\\n\", \"\")\n",
    "data_df[\"transcription\"] = [readBenthamTrans(f) for f in data_df.transnames]"
   ]
  },
  {
   "cell_type": "markdown",
   "metadata": {},
   "source": [
    "#### Get rid of unwanted rows"
   ]
  },
  {
   "cell_type": "code",
   "execution_count": 8,
   "metadata": {
    "collapsed": false
   },
   "outputs": [
    {
     "name": "stdout",
     "output_type": "stream",
     "text": [
      "1833.0 181.0\n"
     ]
    }
   ],
   "source": [
    "w95 = np.percentile(data_df.widths, 95)\n",
    "h95 = np.percentile(data_df.heights, 95)\n",
    "print(w95, h95)\n",
    "\n",
    "# size columns\n",
    "# plt.subplot(211)\n",
    "# plt.hist(data_df.widths)\n",
    "# plt.axvline(x=w95, color=\"r\")\n",
    "# plt.subplot(212)\n",
    "# plt.hist(data_df.heights)\n",
    "# plt.axvline(x=h95, color=\"r\")\n",
    "# plt.show()"
   ]
  },
  {
   "cell_type": "code",
   "execution_count": 9,
   "metadata": {
    "collapsed": true
   },
   "outputs": [],
   "source": [
    "# get rid of the really big images\n",
    "data_df = data_df[np.logical_and(data_df.widths < w95, data_df.heights < h95)]\n",
    "\n",
    "# get rid of images with annoying characters\n",
    "data_df[\"nonhex\"] = [any([ord(i) > 127 for i in t]) \n",
    "                     for t in data_df.transcription]\n",
    "data_df = data_df[np.logical_not(data_df.nonhex)]"
   ]
  },
  {
   "cell_type": "markdown",
   "metadata": {},
   "source": [
    "#### Save new images"
   ]
  },
  {
   "cell_type": "code",
   "execution_count": 10,
   "metadata": {
    "collapsed": true
   },
   "outputs": [],
   "source": [
    "new_img_dir = local_path + \"/data/Images_mod/\"\n",
    "if not os.path.isdir(new_img_dir):\n",
    "    os.mkdir(new_img_dir)\n",
    "data_df[\"new_img_path\"] = [new_img_dir + f+\".png\" for f in data_df.filenames]"
   ]
  },
  {
   "cell_type": "code",
   "execution_count": 11,
   "metadata": {
    "collapsed": false
   },
   "outputs": [
    {
     "name": "stdout",
     "output_type": "stream",
     "text": [
      "500\t1000\t1500\t2000\t2500\t3000\t3500\t4000\t4500\t5000\t5500\t6000\t6500\t7000\t7500\t8000\t"
     ]
    }
   ],
   "source": [
    "count = 0\n",
    "for i in data_df.index:\n",
    "    data_df.loc[i, \"images\"].save(data_df.loc[i, \"new_img_path\"])\n",
    "#     with warnings.catch_warnings():\n",
    "#         warnings.simplefilter(\"ignore\")\n",
    "#         skimio.imsave(data_df.loc[i, \"new_img_path\"], data_df.loc[i, \"images\"])\n",
    "    count += 1\n",
    "    if count % 500 == 0: print(count, end=\"\\t\")"
   ]
  },
  {
   "cell_type": "markdown",
   "metadata": {},
   "source": [
    "#### Save training file"
   ]
  },
  {
   "cell_type": "code",
   "execution_count": 12,
   "metadata": {
    "collapsed": true
   },
   "outputs": [],
   "source": [
    "export_df = data_df[[\"new_img_path\", \"transcription\"]]\n",
    "export_df.to_csv(\"./data/train.csv\", sep=\"\\t\", index=False)"
   ]
  },
  {
   "cell_type": "markdown",
   "metadata": {},
   "source": [
    "#### Find freqency of letters"
   ]
  },
  {
   "cell_type": "code",
   "execution_count": 13,
   "metadata": {
    "collapsed": true
   },
   "outputs": [],
   "source": [
    "letters = dict()\n",
    "\n",
    "for tran in export_df.transcription:\n",
    "    for l in list(tran):\n",
    "        if l not in letters:\n",
    "            letters[l] = 0\n",
    "        letters[l] += 1\n",
    "letters = sorted(letters.items(), key = lambda f: f[1], reverse=True)"
   ]
  },
  {
   "cell_type": "code",
   "execution_count": 14,
   "metadata": {
    "collapsed": false
   },
   "outputs": [
    {
     "name": "stdout",
     "output_type": "stream",
     "text": [
      "[(' ', 75213), ('e', 37833), ('t', 27693), ('o', 23144), ('n', 21418), ('a', 21333), ('i', 21113), ('s', 18914), ('r', 17622), ('h', 16167), ('d', 9654), ('l', 9115), ('c', 9020), ('f', 8427), ('u', 8413), ('m', 6995), ('p', 6316), ('y', 4794), ('b', 4597), ('g', 4526), ('w', 4393), ('v', 3008), (',', 2665), ('.', 2555), (':', 1053), ('k', 1041), ('-', 854), ('I', 775), ('C', 718), ('T', 681), ('x', 660), ('\"', 649), ('A', 615), ('S', 576), ('P', 471), ('=', 420), ('1', 418), ('_', 393), ('B', 392), ('M', 362), ('j', 360), ('O', 357), ('L', 337), ('q', 302), (';', 300), ('F', 289), ('H', 275), ('E', 271), (\"'\", 262), ('W', 255), ('2', 251), ('(', 228), (')', 222), ('N', 221), ('J', 209), ('G', 199), ('D', 196), ('3', 170), ('7', 150), ('0', 150), ('R', 138), ('&', 136), ('4', 135), ('9', 126), ('[', 109), (']', 108), ('8', 100), ('6', 98), ('z', 96), ('5', 87), ('?', 86), ('/', 63), ('Y', 58), ('<', 56), ('>', 56), ('V', 54), ('U', 40), ('+', 31), ('K', 30), ('Q', 27), ('|', 19), ('!', 18), ('#', 11), ('*', 7), ('X', 7)]\n"
     ]
    }
   ],
   "source": [
    "print(letters)"
   ]
  }
 ],
 "metadata": {
  "kernelspec": {
   "display_name": "Python 3",
   "language": "python",
   "name": "python3"
  },
  "language_info": {
   "codemirror_mode": {
    "name": "ipython",
    "version": 3
   },
   "file_extension": ".py",
   "mimetype": "text/x-python",
   "name": "python",
   "nbconvert_exporter": "python",
   "pygments_lexer": "ipython3",
   "version": "3.5.1"
  }
 },
 "nbformat": 4,
 "nbformat_minor": 2
}
