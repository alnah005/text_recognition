{
 "cells": [
  {
   "cell_type": "code",
   "execution_count": 1,
   "metadata": {},
   "outputs": [
    {
     "name": "stderr",
     "output_type": "stream",
     "text": [
      "/home/ubuntu/anaconda3/envs/tensorflow_p36/lib/python3.6/importlib/_bootstrap.py:219: RuntimeWarning: compiletime version 3.5 of module 'tensorflow.python.framework.fast_tensor_util' does not match runtime version 3.6\n",
      "  return f(*args, **kwds)\n",
      "/home/ubuntu/anaconda3/envs/tensorflow_p36/lib/python3.6/site-packages/h5py/__init__.py:36: FutureWarning: Conversion of the second argument of issubdtype from `float` to `np.floating` is deprecated. In future, it will be treated as `np.float64 == np.dtype(float).type`.\n",
      "  from ._conv import register_converters as _register_converters\n",
      "/home/ubuntu/anaconda3/envs/tensorflow_p36/lib/python3.6/site-packages/matplotlib/__init__.py:962: UserWarning: Duplicate key in file \"/home/ubuntu/.config/matplotlib/matplotlibrc\", line #2\n",
      "  (fname, cnt))\n",
      "/home/ubuntu/anaconda3/envs/tensorflow_p36/lib/python3.6/site-packages/matplotlib/__init__.py:962: UserWarning: Duplicate key in file \"/home/ubuntu/.config/matplotlib/matplotlibrc\", line #3\n",
      "  (fname, cnt))\n"
     ]
    }
   ],
   "source": [
    "import numpy as np\n",
    "import tensorflow as tf\n",
    "import pandas as pd\n",
    "import os"
   ]
  },
  {
   "cell_type": "markdown",
   "metadata": {},
   "source": [
    "# CSV files"
   ]
  },
  {
   "cell_type": "markdown",
   "metadata": {},
   "source": [
    "#### Read in data"
   ]
  },
  {
   "cell_type": "code",
   "execution_count": 2,
   "metadata": {},
   "outputs": [],
   "source": [
    "data_list = []\n",
    "\n",
    "with open(\"data_in/iamHandwriting/ascii/words.txt\") as f:\n",
    "    for line in f:\n",
    "        if line[0] == \"#\":\n",
    "            continue\n",
    "        line = line.replace(\"\\n\", \"\")\n",
    "        l_split = line.split(\" \", 8)\n",
    "        \n",
    "        data_dict = dict()\n",
    "        data_dict[\"wordID\"] = l_split[0]\n",
    "        data_dict[\"segmentation\"] = l_split[1]\n",
    "        data_dict[\"bin_thresh\"] = int(l_split[2])\n",
    "        data_dict[\"x_bound\"] = int(l_split[3])\n",
    "        data_dict[\"y_bound\"] = int(l_split[4])\n",
    "        data_dict[\"w_bound\"] = int(l_split[5])\n",
    "        data_dict[\"h_bound\"] = int(l_split[6])\n",
    "        data_dict[\"grammar\"] = l_split[7]\n",
    "        data_dict[\"transcription\"] = l_split[8]\n",
    "        data_list.append(data_dict)\n",
    "\n",
    "data_df = pd.DataFrame(data_list)\n",
    "data_df = data_df[[\"wordID\", \"transcription\",\n",
    "                   \"segmentation\", \"bin_thresh\", \"x_bound\", \"y_bound\",\n",
    "                   \"w_bound\", \"h_bound\", \"grammar\"]]"
   ]
  },
  {
   "cell_type": "markdown",
   "metadata": {},
   "source": [
    "#### Add new columns"
   ]
  },
  {
   "cell_type": "code",
   "execution_count": 3,
   "metadata": {},
   "outputs": [],
   "source": [
    "# location columns\n",
    "data_df[\"prefix\"] = [x.split(\"-\")[0] for x in data_df[\"wordID\"]]\n",
    "data_df[\"form\"] = [\"-\".join([x.split(\"-\")[0], x.split(\"-\")[1]])\n",
    "                            for x in data_df[\"wordID\"]]\n",
    "local_path = os.getcwd().replace(\"\\\\\", \"/\") + \"/\"\n",
    "data_df[\"path\"] = local_path + \"data_in/iamHandwriting/words/\" + data_df[\"prefix\"] + \"/\" + data_df[\"form\"] + \"/\" + data_df[\"wordID\"] + \".png\""
   ]
  },
  {
   "cell_type": "markdown",
   "metadata": {},
   "source": [
    "#### Find freqency of letters"
   ]
  },
  {
   "cell_type": "code",
   "execution_count": 4,
   "metadata": {},
   "outputs": [],
   "source": [
    "letters = dict()\n",
    "\n",
    "for tran in data_df.transcription:\n",
    "    for l in list(tran):\n",
    "        if l not in letters:\n",
    "            letters[l] = 0\n",
    "        letters[l] += 1\n",
    "letters = sorted(letters.items(), key = lambda f: f[1], reverse=True)\n",
    "# print(letters)"
   ]
  },
  {
   "cell_type": "markdown",
   "metadata": {},
   "source": [
    "#### Get rid of unwanted rows"
   ]
  },
  {
   "cell_type": "code",
   "execution_count": 5,
   "metadata": {},
   "outputs": [
    {
     "name": "stdout",
     "output_type": "stream",
     "text": [
      "369.0 129.0\n"
     ]
    },
    {
     "data": {
      "text/plain": [
       "<matplotlib.figure.Figure at 0x7f655bb3a7f0>"
      ]
     },
     "metadata": {},
     "output_type": "display_data"
    }
   ],
   "source": [
    "w95 = np.percentile(data_df.w_bound, 95)\n",
    "h95 = np.percentile(data_df.h_bound, 95)\n",
    "print(w95, h95)\n",
    "\n",
    "# size columns\n",
    "import matplotlib.pyplot as plt\n",
    "plt.subplot(211)\n",
    "plt.hist(data_df.w_bound)\n",
    "plt.axvline(x=w95, color=\"r\")\n",
    "plt.subplot(212)\n",
    "plt.hist(data_df.h_bound)\n",
    "plt.axvline(x=h95, color=\"r\")\n",
    "plt.show()"
   ]
  },
  {
   "cell_type": "code",
   "execution_count": 6,
   "metadata": {},
   "outputs": [],
   "source": [
    "# get rid of the really big images\n",
    "data_df = data_df[np.logical_and(data_df.w_bound < w95, data_df.h_bound < h95)]"
   ]
  },
  {
   "cell_type": "code",
   "execution_count": 7,
   "metadata": {},
   "outputs": [],
   "source": [
    "# image is broken\n",
    "data_df = data_df[data_df.wordID != \"r06-022-03-05\"]"
   ]
  },
  {
   "cell_type": "code",
   "execution_count": 8,
   "metadata": {},
   "outputs": [],
   "source": [
    "# get only words that are entirely lowercase letters\n",
    "data_df[\"lower\"] = [all([y.islower() for y in x]) \n",
    "                     for x in data_df[\"transcription\"]]\n",
    "\n",
    "data_df = data_df[data_df[\"lower\"]].loc[:,[\"path\", \"transcription\"]]"
   ]
  },
  {
   "cell_type": "markdown",
   "metadata": {},
   "source": [
    "#### Save only lowercase words"
   ]
  },
  {
   "cell_type": "code",
   "execution_count": 9,
   "metadata": {},
   "outputs": [],
   "source": [
    "data_df.to_csv(\"./data/train.csv\", sep=\"\\t\", index=False)"
   ]
  }
 ],
 "metadata": {
  "kernelspec": {
   "display_name": "Python 3",
   "language": "python",
   "name": "python3"
  },
  "language_info": {
   "codemirror_mode": {
    "name": "ipython",
    "version": 3
   },
   "file_extension": ".py",
   "mimetype": "text/x-python",
   "name": "python",
   "nbconvert_exporter": "python",
   "pygments_lexer": "ipython3",
   "version": "3.6.4"
  }
 },
 "nbformat": 4,
 "nbformat_minor": 2
}
